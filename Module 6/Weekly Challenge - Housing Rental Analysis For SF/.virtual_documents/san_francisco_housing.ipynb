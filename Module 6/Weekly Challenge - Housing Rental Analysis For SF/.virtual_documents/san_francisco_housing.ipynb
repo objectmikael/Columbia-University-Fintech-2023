


# Import the required libraries and dependencies
import pandas as pd
import hvplot.pandas
from pathlib import Path





# Using the read_csv function and Path module, create a DataFrame 
# by importing the sfo_neighborhoods_census_data.csv file from the Resources folder
# read the data from the csv file into a data frame and drop any NaN rows
sfo_data_df = pd.read_csv(
    Path('Resources/sfo_neighborhoods_census_data.csv')
).dropna()

# Review the first and last five rows of the DataFrame
# Use the display method for a more visually appealing output 
display(sfo_data_df.head())
display(sfo_data_df.tail())











# Create a numerical aggregation that groups the data by the year and then averages the results.
# Use the groupby method on the cleaned df (sfo_data_df)
housing_units_by_year = sfo_data_df.groupby('year')['housing_units'].mean()

# Review the DataFrame
housing_units_by_year





# Create a visual aggregation explore the housing units by year
# Use hvplot on the df (housing_units_by_year)
# The x-axis will be the 'year' values from the df
# The y-axis will be the 'mean' value from the df
# Use the opts method to add more parameters to the plot, for example yformatter and ylim
# yformatter is used to format the values on the y-axis
# ylim is used to set the upper and lower bound values of the y-axis 
housing_units_by_year.hvplot.bar(
    xlabel='Year', 
    ylabel='Housing Units', 
    title='Housing Units in SF from 2010 to 2016').opts(
        yformatter='%.0f',
        ylim=(365000, 385000),
        color='blue',
        hover_color='orange'
    )

















# Create a numerical aggregation by grouping the data by year and averaging the results
# Use the groupby method on the cleaned df (sfo_data_df)
# Calculate the mean on the 'sale_price_sqr_foot', 'housing_units', and 'gross_rent' columns
prices_square_foot_by_year = sfo_data_df.groupby('year')[['sale_price_sqr_foot', 'housing_units', 'gross_rent']].mean()

# Sort the resulting DataFrame by 'gross_rent'
# Review the resulting DataFrame
prices_square_foot_by_year.sort_values('gross_rent')








# Use the drop method on the previous df (prices_square_foot_by_year)
# Filter out the housing_units column, creating a new DataFrame 
# Keep only sale_price_sqr_foot and gross_rent averages per year
prices_square_foot_by_year = prices_square_foot_by_year.drop(columns='housing_units')

# Review the DataFrame
prices_square_foot_by_year





# Plot prices_square_foot_by_year. 
# Inclued labels for the x- and y-axes, and a title.
# Use hvplot on the df (prices_square_foot_by_year)
# There will be two lines on a single graph 
# The x-axis will be the 'year' values from the df
# The y-axis will be the 'sale_price_sqr_foot' and 'gross_rent' values from the df
prices_square_foot_by_year.hvplot.line(
    xlabel='Year', 
    ylabel='Gross Rent/Sale Price Per Square Foot', 
    title='Sales Price Per Square Foot and Average Gross Rent - 2010-2016 - SF')




















# Use the groupby method on the df (sfo_data_df)
# Group by year and neighborhood and then create a new dataframe of the mean values
prices_by_year_by_neighborhood = sfo_data_df.groupby(['year', 'neighborhood']).mean()

# Review the DataFrame
prices_by_year_by_neighborhood





# Use the drop method on the previous df (prices_by_year_by_neighborhood)
# Filter out the housing_units column, creating a new DataFrame 
# Keep only sale_price_sqr_foot and gross_rent averages per year
prices_by_year_by_neighborhood = prices_by_year_by_neighborhood.drop(columns='housing_units')

# Review the first and last five rows of the DataFrame
# Use the display method for a more visually appealing output 
display(prices_by_year_by_neighborhood.head())
display(prices_by_year_by_neighborhood.tail())





# Use hvplot to create an interactive line plot of the average price per square foot
# The plot should have a dropdown selector for the neighborhood
# Use the groupby parameter to create a dropdown widget of the neighborhoods 
prices_by_year_by_neighborhood.hvplot.line(
    x='year',
    groupby='neighborhood',
    xlabel= 'Year',
    ylabel= 'Gross Rent/Sale Price Per Square Foot',
    title='Sales Price Per Square Foot and Average Gross Rent - 2010-2016 - By Neighborhood'
)

















# Load neighborhoods coordinates data
# Using the read_csv function and Path module, create a DataFrame 
# by importing the neighborhoods_coordinates.csv file from the Resources folder
# read the data from the csv file into a data frame, set the index to 'Neighborhood'
neighborhood_locations_df = pd.read_csv(
    Path('Resources/neighborhoods_coordinates.csv'),
    index_col = 'Neighborhood'
)

# Review the DataFrame
neighborhood_locations_df





# Calculate the mean values for each neighborhood
# Use the groupby method on the original df (sfo_data_df)
# Calculate the mean on the 'sale_price_sqr_foot', 'housing_units', and 'gross_rent' columns per neighborhood
all_neighborhood_info_df = sfo_data_df.groupby('neighborhood')[['sale_price_sqr_foot', 'housing_units', 'gross_rent']].mean()

# Review the resulting DataFrame
all_neighborhood_info_df





# Using the Pandas `concat` function, join the 
# neighborhood_locations_df and the all_neighborhood_info_df DataFrame
# The axis of the concatenation is "columns".
# The concat function will automatially combine columns with
# identical information, while keeping the additional columns.
all_neighborhoods_df = pd.concat(
    [neighborhood_locations_df, all_neighborhood_info_df], 
    axis="columns",
    sort=False
)

# Review the resulting DataFrame
display(all_neighborhoods_df.head())
display(all_neighborhoods_df.tail())



# Call the dropna function to remove any neighborhoods that do not have data
# Use the reset_index method to make the left most column a column with the header 'index'
all_neighborhoods_df = all_neighborhoods_df.reset_index().dropna()

# Rename the "index" column as "Neighborhood" for use in the Visualization
all_neighborhoods_df = all_neighborhoods_df.rename(columns={"index": "Neighborhood"})

# Review the resulting DataFrame
display(all_neighborhoods_df.head())
display(all_neighborhoods_df.tail())





# Create a points plot to analyze neighborhood info
# The x-axis is named 'Lon' in the dataset containing the longitude values for each location
# The y-axis is named 'Lat' in the dataset containing the latitude values for each location.
# To specify a geographic plot, we need to set geo=True.
# To show data on the graph we use the 'size' parameter. Larger values will result in larger points on the map.
# To help visualize another values, we use the color parameter. The color gradient on the map will show the scale for 'gross_rent'.
# Use the 'tiles' parameter to providing a base layer(background map) for the geographic plot. 
# Use 'hover_cols' to see the exact neighborhood when hovering over an area

visual_w_details = all_neighborhoods_df.hvplot.points(
    'Lon',
    'Lat',
    geo=True,
    size='sale_price_sqr_foot',
    color='gross_rent',
    tiles='OSM',
    frame_width=700,
    frame_height=500,
    title='Sales Price Per Square Foot and Average Gross Rent in SF by Neighborhoods',
    xlabel='Longitude',
    ylabel='Latitude',
    hover_cols='Neighborhood',
    clabel = 'Gross Rent'
)


visual_wo_details = all_neighborhoods_df.hvplot.points(
    'Lon',
    'Lat',
    geo=True,
    size='sale_price_sqr_foot',
    color='gross_rent',
    tiles='OSM',
    frame_width=700,
    frame_height=500
   
    
)


visual_w_details















