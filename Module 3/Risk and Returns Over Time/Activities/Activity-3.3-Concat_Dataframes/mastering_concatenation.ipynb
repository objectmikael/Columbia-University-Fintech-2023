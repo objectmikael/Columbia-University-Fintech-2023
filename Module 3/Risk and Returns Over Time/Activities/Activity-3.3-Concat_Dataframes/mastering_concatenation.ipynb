{
 "cells": [
  {
   "cell_type": "markdown",
   "metadata": {},
   "source": [
    "# Mastering Concatenation!"
   ]
  },
  {
   "cell_type": "markdown",
   "metadata": {},
   "source": [
    "Two county organizations that you are a part of, Financial Leaders of America and Investors Leadership Council, have recently joined forces. Help the treasurer out by consolidating the dues and member data."
   ]
  },
  {
   "cell_type": "code",
   "execution_count": 18,
   "metadata": {},
   "outputs": [],
   "source": [
    "import pandas as pd\n",
    "from pathlib import Path"
   ]
  },
  {
   "cell_type": "markdown",
   "metadata": {},
   "source": [
    "### Read in data"
   ]
  },
  {
   "cell_type": "code",
   "execution_count": 19,
   "metadata": {},
   "outputs": [],
   "source": [
    "fin_leaders_america_path = Path('fin_leaders_america.csv')\n",
    "investors_leadership_path = Path('invstrs_leadership.csv')\n",
    "fin_leaders_mem_path = Path('fin_leaders_members.csv')\n",
    "investors_leadership_mem_path = Path('invstrs_leadership_members.csv')\n",
    "\n",
    "fin_leaders_america_data = pd.read_csv(fin_leaders_america_path, index_col='MemberName')\n",
    "investors_leadership_data = pd.read_csv(investors_leadership_path, index_col='MemberName')\n",
    "fin_leaders_mem_data = pd.read_csv(fin_leaders_mem_path, index_col='MemberName')\n",
    "investors_leadership_mem_data = pd.read_csv(investors_leadership_mem_path, index_col='MemberName')\n",
    "# fin_leaders_america_data.head()\n",
    "# investors_leadership_data.head()\n",
    "# fin_leaders_mem_data.head()\n",
    "# investors_leadership_mem_data.head()"
   ]
  },
  {
   "cell_type": "markdown",
   "metadata": {},
   "source": [
    "### Concat dues data using `rows` axis and `inner` join"
   ]
  },
  {
   "cell_type": "code",
   "execution_count": 20,
   "metadata": {},
   "outputs": [
    {
     "data": {
      "text/html": [
       "<div>\n",
       "<style scoped>\n",
       "    .dataframe tbody tr th:only-of-type {\n",
       "        vertical-align: middle;\n",
       "    }\n",
       "\n",
       "    .dataframe tbody tr th {\n",
       "        vertical-align: top;\n",
       "    }\n",
       "\n",
       "    .dataframe thead th {\n",
       "        text-align: right;\n",
       "    }\n",
       "</style>\n",
       "<table border=\"1\" class=\"dataframe\">\n",
       "  <thead>\n",
       "    <tr style=\"text-align: right;\">\n",
       "      <th></th>\n",
       "      <th>DuesOwed</th>\n",
       "      <th>DuesPaid</th>\n",
       "    </tr>\n",
       "    <tr>\n",
       "      <th>MemberName</th>\n",
       "      <th></th>\n",
       "      <th></th>\n",
       "    </tr>\n",
       "  </thead>\n",
       "  <tbody>\n",
       "    <tr>\n",
       "      <th>Warren Buffet</th>\n",
       "      <td>0</td>\n",
       "      <td>2500</td>\n",
       "    </tr>\n",
       "    <tr>\n",
       "      <th>Janet Yellen</th>\n",
       "      <td>100</td>\n",
       "      <td>2400</td>\n",
       "    </tr>\n",
       "    <tr>\n",
       "      <th>Abigail Johnson</th>\n",
       "      <td>0</td>\n",
       "      <td>2500</td>\n",
       "    </tr>\n",
       "    <tr>\n",
       "      <th>Larry Fink</th>\n",
       "      <td>2500</td>\n",
       "      <td>0</td>\n",
       "    </tr>\n",
       "    <tr>\n",
       "      <th>Warren Buffet</th>\n",
       "      <td>0</td>\n",
       "      <td>2500</td>\n",
       "    </tr>\n",
       "    <tr>\n",
       "      <th>Janet Yellen</th>\n",
       "      <td>100</td>\n",
       "      <td>2400</td>\n",
       "    </tr>\n",
       "    <tr>\n",
       "      <th>Abigail Johnson</th>\n",
       "      <td>0</td>\n",
       "      <td>2500</td>\n",
       "    </tr>\n",
       "    <tr>\n",
       "      <th>Larry Fink</th>\n",
       "      <td>2500</td>\n",
       "      <td>0</td>\n",
       "    </tr>\n",
       "    <tr>\n",
       "      <th>Mario Draghi</th>\n",
       "      <td>2500</td>\n",
       "      <td>0</td>\n",
       "    </tr>\n",
       "    <tr>\n",
       "      <th>Michael Bloomberg</th>\n",
       "      <td>2500</td>\n",
       "      <td>0</td>\n",
       "    </tr>\n",
       "    <tr>\n",
       "      <th>Ray Dalio</th>\n",
       "      <td>0</td>\n",
       "      <td>2500</td>\n",
       "    </tr>\n",
       "  </tbody>\n",
       "</table>\n",
       "</div>"
      ],
      "text/plain": [
       "                   DuesOwed  DuesPaid\n",
       "MemberName                           \n",
       "Warren Buffet             0      2500\n",
       "Janet Yellen            100      2400\n",
       "Abigail Johnson           0      2500\n",
       "Larry Fink             2500         0\n",
       "Warren Buffet             0      2500\n",
       "Janet Yellen            100      2400\n",
       "Abigail Johnson           0      2500\n",
       "Larry Fink             2500         0\n",
       "Mario Draghi           2500         0\n",
       "Michael Bloomberg      2500         0\n",
       "Ray Dalio                 0      2500"
      ]
     },
     "execution_count": 20,
     "metadata": {},
     "output_type": "execute_result"
    }
   ],
   "source": [
    "joined_dues_data = pd.concat([fin_leaders_america_data, investors_leadership_data], axis=\"rows\", join=\"inner\")\n",
    "joined_dues_data"
   ]
  },
  {
   "cell_type": "markdown",
   "metadata": {},
   "source": [
    "### Concat member data using `rows` axis and `inner` join"
   ]
  },
  {
   "cell_type": "code",
   "execution_count": 21,
   "metadata": {},
   "outputs": [
    {
     "data": {
      "text/html": [
       "<div>\n",
       "<style scoped>\n",
       "    .dataframe tbody tr th:only-of-type {\n",
       "        vertical-align: middle;\n",
       "    }\n",
       "\n",
       "    .dataframe tbody tr th {\n",
       "        vertical-align: top;\n",
       "    }\n",
       "\n",
       "    .dataframe thead th {\n",
       "        text-align: right;\n",
       "    }\n",
       "</style>\n",
       "<table border=\"1\" class=\"dataframe\">\n",
       "  <thead>\n",
       "    <tr style=\"text-align: right;\">\n",
       "      <th></th>\n",
       "      <th>MembershipStatus</th>\n",
       "    </tr>\n",
       "    <tr>\n",
       "      <th>MemberName</th>\n",
       "      <th></th>\n",
       "    </tr>\n",
       "  </thead>\n",
       "  <tbody>\n",
       "    <tr>\n",
       "      <th>Warren Buffet</th>\n",
       "      <td>Good Standing</td>\n",
       "    </tr>\n",
       "    <tr>\n",
       "      <th>Janet Yellen</th>\n",
       "      <td>Good Standing</td>\n",
       "    </tr>\n",
       "    <tr>\n",
       "      <th>Abigail Johnson</th>\n",
       "      <td>Good Standing</td>\n",
       "    </tr>\n",
       "    <tr>\n",
       "      <th>Larry Fink</th>\n",
       "      <td>Delinquent</td>\n",
       "    </tr>\n",
       "    <tr>\n",
       "      <th>Warren Buffet</th>\n",
       "      <td>Good Standing</td>\n",
       "    </tr>\n",
       "    <tr>\n",
       "      <th>Janet Yellen</th>\n",
       "      <td>Good Standing</td>\n",
       "    </tr>\n",
       "    <tr>\n",
       "      <th>Abigail Johnson</th>\n",
       "      <td>Good Standing</td>\n",
       "    </tr>\n",
       "    <tr>\n",
       "      <th>Larry Fink</th>\n",
       "      <td>Delinquent</td>\n",
       "    </tr>\n",
       "    <tr>\n",
       "      <th>Mario Draghi</th>\n",
       "      <td>Delinquent</td>\n",
       "    </tr>\n",
       "    <tr>\n",
       "      <th>Michael Bloomberg</th>\n",
       "      <td>Delinquent</td>\n",
       "    </tr>\n",
       "    <tr>\n",
       "      <th>Ray Dalio</th>\n",
       "      <td>Good Standing</td>\n",
       "    </tr>\n",
       "  </tbody>\n",
       "</table>\n",
       "</div>"
      ],
      "text/plain": [
       "                  MembershipStatus\n",
       "MemberName                        \n",
       "Warren Buffet        Good Standing\n",
       "Janet Yellen         Good Standing\n",
       "Abigail Johnson      Good Standing\n",
       "Larry Fink              Delinquent\n",
       "Warren Buffet        Good Standing\n",
       "Janet Yellen         Good Standing\n",
       "Abigail Johnson      Good Standing\n",
       "Larry Fink              Delinquent\n",
       "Mario Draghi            Delinquent\n",
       "Michael Bloomberg       Delinquent\n",
       "Ray Dalio            Good Standing"
      ]
     },
     "execution_count": 21,
     "metadata": {},
     "output_type": "execute_result"
    }
   ],
   "source": [
    "joined_mem_data = pd.concat([fin_leaders_mem_data, investors_leadership_mem_data], axis=\"rows\", join=\"inner\")\n",
    "joined_mem_data"
   ]
  },
  {
   "cell_type": "markdown",
   "metadata": {},
   "source": [
    "### Concat dues and member data using `columns` axis and `inner` join"
   ]
  },
  {
   "cell_type": "code",
   "execution_count": 23,
   "metadata": {},
   "outputs": [
    {
     "data": {
      "text/html": [
       "<div>\n",
       "<style scoped>\n",
       "    .dataframe tbody tr th:only-of-type {\n",
       "        vertical-align: middle;\n",
       "    }\n",
       "\n",
       "    .dataframe tbody tr th {\n",
       "        vertical-align: top;\n",
       "    }\n",
       "\n",
       "    .dataframe thead th {\n",
       "        text-align: right;\n",
       "    }\n",
       "</style>\n",
       "<table border=\"1\" class=\"dataframe\">\n",
       "  <thead>\n",
       "    <tr style=\"text-align: right;\">\n",
       "      <th></th>\n",
       "      <th>DuesOwed</th>\n",
       "      <th>DuesPaid</th>\n",
       "      <th>MembershipStatus</th>\n",
       "    </tr>\n",
       "    <tr>\n",
       "      <th>MemberName</th>\n",
       "      <th></th>\n",
       "      <th></th>\n",
       "      <th></th>\n",
       "    </tr>\n",
       "  </thead>\n",
       "  <tbody>\n",
       "    <tr>\n",
       "      <th>Warren Buffet</th>\n",
       "      <td>0</td>\n",
       "      <td>2500</td>\n",
       "      <td>Good Standing</td>\n",
       "    </tr>\n",
       "    <tr>\n",
       "      <th>Janet Yellen</th>\n",
       "      <td>100</td>\n",
       "      <td>2400</td>\n",
       "      <td>Good Standing</td>\n",
       "    </tr>\n",
       "    <tr>\n",
       "      <th>Abigail Johnson</th>\n",
       "      <td>0</td>\n",
       "      <td>2500</td>\n",
       "      <td>Good Standing</td>\n",
       "    </tr>\n",
       "    <tr>\n",
       "      <th>Larry Fink</th>\n",
       "      <td>2500</td>\n",
       "      <td>0</td>\n",
       "      <td>Delinquent</td>\n",
       "    </tr>\n",
       "    <tr>\n",
       "      <th>Mario Draghi</th>\n",
       "      <td>2500</td>\n",
       "      <td>0</td>\n",
       "      <td>Delinquent</td>\n",
       "    </tr>\n",
       "    <tr>\n",
       "      <th>Michael Bloomberg</th>\n",
       "      <td>2500</td>\n",
       "      <td>0</td>\n",
       "      <td>Delinquent</td>\n",
       "    </tr>\n",
       "    <tr>\n",
       "      <th>Ray Dalio</th>\n",
       "      <td>0</td>\n",
       "      <td>2500</td>\n",
       "      <td>Good Standing</td>\n",
       "    </tr>\n",
       "  </tbody>\n",
       "</table>\n",
       "</div>"
      ],
      "text/plain": [
       "                   DuesOwed  DuesPaid MembershipStatus\n",
       "MemberName                                            \n",
       "Warren Buffet             0      2500    Good Standing\n",
       "Janet Yellen            100      2400    Good Standing\n",
       "Abigail Johnson           0      2500    Good Standing\n",
       "Larry Fink             2500         0       Delinquent\n",
       "Mario Draghi           2500         0       Delinquent\n",
       "Michael Bloomberg      2500         0       Delinquent\n",
       "Ray Dalio                 0      2500    Good Standing"
      ]
     },
     "execution_count": 23,
     "metadata": {},
     "output_type": "execute_result"
    }
   ],
   "source": [
    "joined_data_columns = pd.concat([investors_leadership_data, investors_leadership_mem_data], axis='columns', join='inner')\n",
    "joined_data_columns"
   ]
  }
 ],
 "metadata": {
  "kernelspec": {
   "display_name": "Python 3",
   "language": "python",
   "name": "python3"
  },
  "language_info": {
   "codemirror_mode": {
    "name": "ipython",
    "version": 3
   },
   "file_extension": ".py",
   "mimetype": "text/x-python",
   "name": "python",
   "nbconvert_exporter": "python",
   "pygments_lexer": "ipython3",
   "version": "3.10.13"
  }
 },
 "nbformat": 4,
 "nbformat_minor": 2
}
