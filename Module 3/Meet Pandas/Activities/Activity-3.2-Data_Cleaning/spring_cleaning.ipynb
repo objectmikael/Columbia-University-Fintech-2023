{
 "cells": [
  {
   "cell_type": "markdown",
   "metadata": {},
   "source": [
    "# Spring Cleaning!"
   ]
  },
  {
   "cell_type": "markdown",
   "metadata": {},
   "source": [
    "Harold's stock data is a mess! Help him clean up his data before the auditors arrive!"
   ]
  },
  {
   "cell_type": "code",
   "execution_count": 28,
   "metadata": {},
   "outputs": [],
   "source": [
    "# Import Libraries\n",
    "import pandas as pd\n",
    "from pathlib import Path"
   ]
  },
  {
   "cell_type": "markdown",
   "metadata": {},
   "source": [
    "### Load CSV data into Pandas using `read_csv`"
   ]
  },
  {
   "cell_type": "code",
   "execution_count": 29,
   "metadata": {},
   "outputs": [],
   "source": [
    "csv_path = Path('stock_data.csv')\n",
    "df = pd.read_csv(csv_path)"
   ]
  },
  {
   "cell_type": "markdown",
   "metadata": {},
   "source": [
    "### Identify the number of rows and columns (shape) in the DataFrame."
   ]
  },
  {
   "cell_type": "code",
   "execution_count": 30,
   "metadata": {},
   "outputs": [
    {
     "data": {
      "text/plain": [
       "(504, 14)"
      ]
     },
     "execution_count": 30,
     "metadata": {},
     "output_type": "execute_result"
    }
   ],
   "source": [
    "df.shape"
   ]
  },
  {
   "cell_type": "markdown",
   "metadata": {},
   "source": [
    "### Generate a sample of the data to visually ensure data has been loaded in correctly."
   ]
  },
  {
   "cell_type": "code",
   "execution_count": 31,
   "metadata": {},
   "outputs": [
    {
     "data": {
      "text/html": [
       "<div>\n",
       "<style scoped>\n",
       "    .dataframe tbody tr th:only-of-type {\n",
       "        vertical-align: middle;\n",
       "    }\n",
       "\n",
       "    .dataframe tbody tr th {\n",
       "        vertical-align: top;\n",
       "    }\n",
       "\n",
       "    .dataframe thead th {\n",
       "        text-align: right;\n",
       "    }\n",
       "</style>\n",
       "<table border=\"1\" class=\"dataframe\">\n",
       "  <thead>\n",
       "    <tr style=\"text-align: right;\">\n",
       "      <th></th>\n",
       "      <th>symbol</th>\n",
       "      <th>name</th>\n",
       "      <th>sector</th>\n",
       "      <th>price</th>\n",
       "      <th>price_per_earnings</th>\n",
       "      <th>dividend_yield</th>\n",
       "      <th>earnings_per_share</th>\n",
       "      <th>52_week_low</th>\n",
       "      <th>52_week_high</th>\n",
       "      <th>market_cap</th>\n",
       "      <th>ebitda</th>\n",
       "      <th>price_per_sales</th>\n",
       "      <th>price_per_book</th>\n",
       "      <th>sec_filings</th>\n",
       "    </tr>\n",
       "  </thead>\n",
       "  <tbody>\n",
       "    <tr>\n",
       "      <th>271</th>\n",
       "      <td>KSS</td>\n",
       "      <td>Kohl's Corp.</td>\n",
       "      <td>Consumer Discretionary</td>\n",
       "      <td>60.34</td>\n",
       "      <td>16.01</td>\n",
       "      <td>3.496504</td>\n",
       "      <td>3.12</td>\n",
       "      <td>69.1400</td>\n",
       "      <td>35.16</td>\n",
       "      <td>1.057086e+10</td>\n",
       "      <td>2.286000e+09</td>\n",
       "      <td>0.855776</td>\n",
       "      <td>2.04</td>\n",
       "      <td>http://www.sec.gov/cgi-bin/browse-edgar?action...</td>\n",
       "    </tr>\n",
       "    <tr>\n",
       "      <th>247</th>\n",
       "      <td>ICE</td>\n",
       "      <td>Intercontinental Exchange</td>\n",
       "      <td>Financials</td>\n",
       "      <td>67</td>\n",
       "      <td>22.95</td>\n",
       "      <td>5.429864</td>\n",
       "      <td>2.37</td>\n",
       "      <td>76.1378</td>\n",
       "      <td>56.80</td>\n",
       "      <td>4.137305e+10</td>\n",
       "      <td>3.103000e+09</td>\n",
       "      <td>9.619987</td>\n",
       "      <td>2.62</td>\n",
       "      <td>http://www.sec.gov/cgi-bin/browse-edgar?action...</td>\n",
       "    </tr>\n",
       "    <tr>\n",
       "      <th>287</th>\n",
       "      <td>LYB</td>\n",
       "      <td>LyondellBasell</td>\n",
       "      <td>Materials</td>\n",
       "      <td>105.79</td>\n",
       "      <td>10.35</td>\n",
       "      <td>3.264714</td>\n",
       "      <td>12.25</td>\n",
       "      <td>121.9500</td>\n",
       "      <td>78.01</td>\n",
       "      <td>4.355665e+10</td>\n",
       "      <td>6.851000e+09</td>\n",
       "      <td>1.303761</td>\n",
       "      <td>5.86</td>\n",
       "      <td>http://www.sec.gov/cgi-bin/browse-edgar?action...</td>\n",
       "    </tr>\n",
       "    <tr>\n",
       "      <th>24</th>\n",
       "      <td>LNT</td>\n",
       "      <td>Alliant Energy Corp</td>\n",
       "      <td>Utilities</td>\n",
       "      <td>37.14</td>\n",
       "      <td>19.86</td>\n",
       "      <td>3.573333</td>\n",
       "      <td>1.65</td>\n",
       "      <td>45.5500</td>\n",
       "      <td>36.84</td>\n",
       "      <td>8.670164e+09</td>\n",
       "      <td>1.168400e+09</td>\n",
       "      <td>3.433148</td>\n",
       "      <td>2.13</td>\n",
       "      <td>http://www.sec.gov/cgi-bin/browse-edgar?action...</td>\n",
       "    </tr>\n",
       "    <tr>\n",
       "      <th>58</th>\n",
       "      <td>ADSK</td>\n",
       "      <td>Autodesk Inc</td>\n",
       "      <td>Information Technology</td>\n",
       "      <td>104.81</td>\n",
       "      <td>-77.07</td>\n",
       "      <td>0.000000</td>\n",
       "      <td>-2.61</td>\n",
       "      <td>131.1000</td>\n",
       "      <td>81.75</td>\n",
       "      <td>2.434829e+10</td>\n",
       "      <td>-3.781000e+08</td>\n",
       "      <td>16.506820</td>\n",
       "      <td>224.13</td>\n",
       "      <td>http://www.sec.gov/cgi-bin/browse-edgar?action...</td>\n",
       "    </tr>\n",
       "  </tbody>\n",
       "</table>\n",
       "</div>"
      ],
      "text/plain": [
       "    symbol                       name                  sector   price  \\\n",
       "271    KSS               Kohl's Corp.  Consumer Discretionary   60.34   \n",
       "247    ICE  Intercontinental Exchange              Financials      67   \n",
       "287    LYB             LyondellBasell               Materials  105.79   \n",
       "24     LNT        Alliant Energy Corp               Utilities   37.14   \n",
       "58    ADSK               Autodesk Inc  Information Technology  104.81   \n",
       "\n",
       "     price_per_earnings  dividend_yield earnings_per_share  52_week_low  \\\n",
       "271               16.01        3.496504               3.12      69.1400   \n",
       "247               22.95        5.429864               2.37      76.1378   \n",
       "287               10.35        3.264714              12.25     121.9500   \n",
       "24                19.86        3.573333               1.65      45.5500   \n",
       "58               -77.07        0.000000              -2.61     131.1000   \n",
       "\n",
       "     52_week_high    market_cap        ebitda  price_per_sales  \\\n",
       "271         35.16  1.057086e+10  2.286000e+09         0.855776   \n",
       "247         56.80  4.137305e+10  3.103000e+09         9.619987   \n",
       "287         78.01  4.355665e+10  6.851000e+09         1.303761   \n",
       "24          36.84  8.670164e+09  1.168400e+09         3.433148   \n",
       "58          81.75  2.434829e+10 -3.781000e+08        16.506820   \n",
       "\n",
       "     price_per_book                                        sec_filings  \n",
       "271            2.04  http://www.sec.gov/cgi-bin/browse-edgar?action...  \n",
       "247            2.62  http://www.sec.gov/cgi-bin/browse-edgar?action...  \n",
       "287            5.86  http://www.sec.gov/cgi-bin/browse-edgar?action...  \n",
       "24             2.13  http://www.sec.gov/cgi-bin/browse-edgar?action...  \n",
       "58           224.13  http://www.sec.gov/cgi-bin/browse-edgar?action...  "
      ]
     },
     "execution_count": 31,
     "metadata": {},
     "output_type": "execute_result"
    }
   ],
   "source": [
    "df.sample(5)"
   ]
  },
  {
   "cell_type": "markdown",
   "metadata": {},
   "source": [
    "### Identify the number of records in the DataFrame, and compare it with the number of rows in the original file."
   ]
  },
  {
   "cell_type": "code",
   "execution_count": 32,
   "metadata": {},
   "outputs": [
    {
     "data": {
      "text/plain": [
       "504"
      ]
     },
     "execution_count": 32,
     "metadata": {},
     "output_type": "execute_result"
    }
   ],
   "source": [
    "len(df)"
   ]
  },
  {
   "cell_type": "markdown",
   "metadata": {},
   "source": [
    "### Identify nulls records"
   ]
  },
  {
   "cell_type": "code",
   "execution_count": 33,
   "metadata": {},
   "outputs": [
    {
     "data": {
      "text/plain": [
       "symbol                 0\n",
       "name                   2\n",
       "sector                 3\n",
       "price                  4\n",
       "price_per_earnings     7\n",
       "dividend_yield         5\n",
       "earnings_per_share     6\n",
       "52_week_low            4\n",
       "52_week_high           4\n",
       "market_cap             4\n",
       "ebitda                12\n",
       "price_per_sales        4\n",
       "price_per_book        12\n",
       "sec_filings            4\n",
       "dtype: int64"
      ]
     },
     "execution_count": 33,
     "metadata": {},
     "output_type": "execute_result"
    }
   ],
   "source": [
    "df.isnull().sum()"
   ]
  },
  {
   "cell_type": "markdown",
   "metadata": {},
   "source": [
    "### Drop Null Records"
   ]
  },
  {
   "cell_type": "code",
   "execution_count": 34,
   "metadata": {},
   "outputs": [],
   "source": [
    "df.dropna(inplace=True)"
   ]
  },
  {
   "cell_type": "markdown",
   "metadata": {},
   "source": [
    "### Validate nulls have been dropped"
   ]
  },
  {
   "cell_type": "code",
   "execution_count": 35,
   "metadata": {},
   "outputs": [
    {
     "data": {
      "text/plain": [
       "symbol                0\n",
       "name                  0\n",
       "sector                0\n",
       "price                 0\n",
       "price_per_earnings    0\n",
       "dividend_yield        0\n",
       "earnings_per_share    0\n",
       "52_week_low           0\n",
       "52_week_high          0\n",
       "market_cap            0\n",
       "ebitda                0\n",
       "price_per_sales       0\n",
       "price_per_book        0\n",
       "sec_filings           0\n",
       "dtype: int64"
      ]
     },
     "execution_count": 35,
     "metadata": {},
     "output_type": "execute_result"
    }
   ],
   "source": [
    "df.isnull().sum()"
   ]
  },
  {
   "cell_type": "markdown",
   "metadata": {},
   "source": [
    "### Default null `ebitda` values to 0. Then, validate no records are null for ebitda."
   ]
  },
  {
   "cell_type": "code",
   "execution_count": 37,
   "metadata": {},
   "outputs": [],
   "source": [
    "df['ebitda'] = df['ebitda'].fillna(0)"
   ]
  },
  {
   "cell_type": "markdown",
   "metadata": {},
   "source": [
    "### Drop Duplicates"
   ]
  },
  {
   "cell_type": "code",
   "execution_count": null,
   "metadata": {},
   "outputs": [],
   "source": [
    "df = df.drop_duplicates()"
   ]
  }
 ],
 "metadata": {
  "kernelspec": {
   "display_name": "Python 3",
   "language": "python",
   "name": "python3"
  },
  "language_info": {
   "codemirror_mode": {
    "name": "ipython",
    "version": 3
   },
   "file_extension": ".py",
   "mimetype": "text/x-python",
   "name": "python",
   "nbconvert_exporter": "python",
   "pygments_lexer": "ipython3",
   "version": "3.7.3"
  }
 },
 "nbformat": 4,
 "nbformat_minor": 2
}
