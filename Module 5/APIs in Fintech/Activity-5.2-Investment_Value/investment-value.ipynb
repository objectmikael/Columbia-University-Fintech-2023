{
 "cells": [
  {
   "cell_type": "markdown",
   "metadata": {},
   "source": [
    "# Investment Value"
   ]
  },
  {
   "cell_type": "code",
   "execution_count": 1,
   "metadata": {},
   "outputs": [],
   "source": [
    "# Initial imports\n",
    "import os\n",
    "import requests\n",
    "import pandas as pd\n",
    "from dotenv import load_dotenv\n",
    "import alpaca_trade_api as tradeapi\n",
    "\n",
    "%matplotlib inline"
   ]
  },
  {
   "cell_type": "markdown",
   "metadata": {},
   "source": [
    "## Create a DataFrame with the current amount of shares"
   ]
  },
  {
   "cell_type": "code",
   "execution_count": 2,
   "metadata": {},
   "outputs": [
    {
     "data": {
      "text/html": [
       "<div>\n",
       "<style scoped>\n",
       "    .dataframe tbody tr th:only-of-type {\n",
       "        vertical-align: middle;\n",
       "    }\n",
       "\n",
       "    .dataframe tbody tr th {\n",
       "        vertical-align: top;\n",
       "    }\n",
       "\n",
       "    .dataframe thead th {\n",
       "        text-align: right;\n",
       "    }\n",
       "</style>\n",
       "<table border=\"1\" class=\"dataframe\">\n",
       "  <thead>\n",
       "    <tr style=\"text-align: right;\">\n",
       "      <th></th>\n",
       "      <th>shares</th>\n",
       "    </tr>\n",
       "  </thead>\n",
       "  <tbody>\n",
       "    <tr>\n",
       "      <th>MSFT</th>\n",
       "      <td>200</td>\n",
       "    </tr>\n",
       "    <tr>\n",
       "      <th>AAPL</th>\n",
       "      <td>320</td>\n",
       "    </tr>\n",
       "  </tbody>\n",
       "</table>\n",
       "</div>"
      ],
      "text/plain": [
       "      shares\n",
       "MSFT     200\n",
       "AAPL     320"
      ]
     },
     "execution_count": 2,
     "metadata": {},
     "output_type": "execute_result"
    }
   ],
   "source": [
    "# Set current amount of shares data\n",
    "shares = {\n",
    "    'shares': [200, 320]\n",
    "}\n",
    "\n",
    "# Set the tickers\n",
    "tickers = ['MSFT', 'AAPL']\n",
    "\n",
    "# Create the shares DataFrame\n",
    "shares_df = pd.DataFrame(shares, index=tickers)\n",
    "\n",
    "# Display shares data\n",
    "shares_df"
   ]
  },
  {
   "cell_type": "markdown",
   "metadata": {},
   "source": [
    "## Load and Verify Environment Variables"
   ]
  },
  {
   "cell_type": "code",
   "execution_count": 3,
   "metadata": {},
   "outputs": [
    {
     "data": {
      "text/plain": [
       "True"
      ]
     },
     "execution_count": 3,
     "metadata": {},
     "output_type": "execute_result"
    }
   ],
   "source": [
    "# Load .env environment variables\n",
    "load_dotenv()"
   ]
  },
  {
   "cell_type": "code",
   "execution_count": 4,
   "metadata": {},
   "outputs": [],
   "source": [
    "# Set Alpaca API key and secret\n",
    "alpaca_api_key = os.getenv('ALPACA_API_KEY')\n",
    "alpaca_secret_key = os.getenv('ALPACA_SECRET_KEY')"
   ]
  },
  {
   "cell_type": "code",
   "execution_count": 5,
   "metadata": {},
   "outputs": [
    {
     "name": "stdout",
     "output_type": "stream",
     "text": [
      "<class 'str'>\n",
      "<class 'str'>\n"
     ]
    }
   ],
   "source": [
    "# Verify that Alpaca key and secret were correctly loaded\n",
    "print(type(alpaca_api_key))\n",
    "print(type(alpaca_secret_key))\n"
   ]
  },
  {
   "cell_type": "markdown",
   "metadata": {},
   "source": [
    "## Create the Alpaca API Object"
   ]
  },
  {
   "cell_type": "code",
   "execution_count": 6,
   "metadata": {},
   "outputs": [
    {
     "name": "stdout",
     "output_type": "stream",
     "text": [
      "Help on class REST in module alpaca_trade_api.rest:\n",
      "\n",
      "class REST(builtins.object)\n",
      " |  REST(key_id: str = None, secret_key: str = None, base_url: alpaca_trade_api.common.URL = None, api_version: str = None, oauth=None, raw_data: bool = False)\n",
      " |  \n",
      " |  Methods defined here:\n",
      " |  \n",
      " |  __enter__(self)\n",
      " |  \n",
      " |  __exit__(self, exc_type, exc_val, exc_tb)\n",
      " |  \n",
      " |  __init__(self, key_id: str = None, secret_key: str = None, base_url: alpaca_trade_api.common.URL = None, api_version: str = None, oauth=None, raw_data: bool = False)\n",
      " |      :param raw_data: should we return api response raw or wrap it with\n",
      " |                       Entity objects.\n",
      " |  \n",
      " |  add_to_watchlist(self, watchlist_id: str, symbol: str) -> alpaca_trade_api.entity.Watchlist\n",
      " |      Add an asset to the watchlist\n",
      " |  \n",
      " |  cancel_all_orders(self) -> None\n",
      " |      Cancel all open orders\n",
      " |  \n",
      " |  cancel_order(self, order_id: str) -> None\n",
      " |      Cancel an order\n",
      " |  \n",
      " |  close(self)\n",
      " |  \n",
      " |  close_all_positions(self) -> List[alpaca_trade_api.entity.Position]\n",
      " |      Liquidates all open positions at market price\n",
      " |  \n",
      " |  close_position(self, symbol: str, *, qty: float = None) -> alpaca_trade_api.entity.Position\n",
      " |      Liquidates the position for the given symbol at market price\n",
      " |  \n",
      " |  create_watchlist(self, watchlist_name: str, symbols=None) -> alpaca_trade_api.entity.Watchlist\n",
      " |      Create a new watchlist with an optional initial set of assets\n",
      " |  \n",
      " |  data_get(self, path, data=None, feed: Optional[str] = None, api_version='v1')\n",
      " |  \n",
      " |  delete(self, path, data=None)\n",
      " |  \n",
      " |  delete_from_watchlist(self, watchlist_id: str, symbol: str) -> None\n",
      " |      Remove an asset from the watchlist's asset list\n",
      " |  \n",
      " |  delete_watchlist(self, watchlist_id: str) -> None\n",
      " |      Delete a watchlist identified by the ID permanently\n",
      " |  \n",
      " |  get(self, path, data=None)\n",
      " |  \n",
      " |  get_account(self) -> alpaca_trade_api.entity.Account\n",
      " |      Get the account\n",
      " |  \n",
      " |  get_account_configurations(self) -> alpaca_trade_api.entity.AccountConfigurations\n",
      " |      Get account configs\n",
      " |  \n",
      " |  get_activities(self, activity_types: str = None, until: str = None, after: str = None, direction: str = None, date: str = None, page_size: int = None, page_token: str = None) -> List[alpaca_trade_api.entity.AccountActivity]\n",
      " |      go to alpaca.markets/docs/api-documentation/api-v2/account-activities/\n",
      " |      :param activity_types: go to documnetation to see available types\n",
      " |      :param until: isoformat timestamp\n",
      " |      :param after: isoformat timestamp\n",
      " |      :param direction: asc or sesc. default is desc\n",
      " |      :param date: str. can't be sued with until/after\n",
      " |      :param page_size:\n",
      " |      :param page_token:\n",
      " |      :return:\n",
      " |  \n",
      " |  get_asset(self, symbol: str) -> alpaca_trade_api.entity.Asset\n",
      " |      Get an asset\n",
      " |  \n",
      " |  get_bars(self, symbol: Union[str, List[str]], timeframe: alpaca_trade_api.rest.TimeFrame, start: Optional[str] = None, end: Optional[str] = None, adjustment: str = 'raw', limit: int = None, feed: Optional[str] = None, asof: Optional[str] = None, sort: Optional[alpaca_trade_api.rest.Sort] = None) -> alpaca_trade_api.entity_v2.BarsV2\n",
      " |  \n",
      " |  get_bars_iter(self, symbol: Union[str, List[str]], timeframe: alpaca_trade_api.rest.TimeFrame, start: Optional[str] = None, end: Optional[str] = None, adjustment: str = 'raw', limit: int = None, feed: Optional[str] = None, asof: Optional[str] = None, sort: Optional[alpaca_trade_api.rest.Sort] = None, raw=False) -> Iterator[Union[alpaca_trade_api.entity.Bar, dict]]\n",
      " |  \n",
      " |  get_calendar(self, start: str = None, end: str = None) -> List[alpaca_trade_api.entity.Calendar]\n",
      " |      :param start: isoformat date string eg '2006-01-02T15:04:05Z' or\n",
      " |             '2006-01-02'\n",
      " |      :param end: isoformat date string\n",
      " |  \n",
      " |  get_clock(self) -> alpaca_trade_api.entity.Clock\n",
      " |  \n",
      " |  get_crypto_bars(self, symbol: Union[str, List[str]], timeframe: alpaca_trade_api.rest.TimeFrame, start: Optional[str] = None, end: Optional[str] = None, limit: int = None, sort: Optional[alpaca_trade_api.rest.Sort] = None, loc: str = 'us') -> alpaca_trade_api.entity_v2.BarsV2\n",
      " |  \n",
      " |  get_crypto_bars_iter(self, symbol: Union[str, List[str]], timeframe: alpaca_trade_api.rest.TimeFrame, start: Optional[str] = None, end: Optional[str] = None, limit: int = None, sort: Optional[alpaca_trade_api.rest.Sort] = None, loc: str = 'us', raw=False) -> Iterator[Union[alpaca_trade_api.entity.Bar, dict]]\n",
      " |  \n",
      " |  get_crypto_quotes(self, symbol: Union[str, List[str]], start: Optional[str] = None, end: Optional[str] = None, limit: int = None, sort: Optional[alpaca_trade_api.rest.Sort] = None, loc: str = 'us') -> alpaca_trade_api.entity_v2.QuotesV2\n",
      " |  \n",
      " |  get_crypto_quotes_iter(self, symbol: Union[str, List[str]], start: Optional[str] = None, end: Optional[str] = None, limit: int = None, sort: Optional[alpaca_trade_api.rest.Sort] = None, loc: str = 'us', raw=False) -> Iterator[Union[alpaca_trade_api.entity.Quote, dict]]\n",
      " |  \n",
      " |  get_crypto_snapshot(self, symbols: str, loc: str = 'us') -> alpaca_trade_api.entity_v2.SnapshotsV2\n",
      " |  \n",
      " |  get_crypto_snapshots(self, symbols: List[str], loc: str = 'us') -> alpaca_trade_api.entity_v2.SnapshotsV2\n",
      " |  \n",
      " |  get_crypto_trades(self, symbol: Union[str, List[str]], start: Optional[str] = None, end: Optional[str] = None, limit: int = None, sort: Optional[alpaca_trade_api.rest.Sort] = None, loc: str = 'us') -> alpaca_trade_api.entity_v2.TradesV2\n",
      " |  \n",
      " |  get_crypto_trades_iter(self, symbol: Union[str, List[str]], start: Optional[str] = None, end: Optional[str] = None, limit: int = None, sort: Optional[alpaca_trade_api.rest.Sort] = None, loc: str = 'us', raw=False) -> Iterator[Union[alpaca_trade_api.entity.Trade, dict]]\n",
      " |  \n",
      " |  get_latest_bar(self, symbol: str, feed: Optional[str] = None) -> alpaca_trade_api.entity_v2.BarV2\n",
      " |  \n",
      " |  get_latest_bars(self, symbols: List[str], feed: Optional[str] = None) -> alpaca_trade_api.entity_v2.LatestBarsV2\n",
      " |  \n",
      " |  get_latest_crypto_bars(self, symbols: List[str], loc: str = 'us') -> alpaca_trade_api.entity_v2.LatestBarsV2\n",
      " |  \n",
      " |  get_latest_crypto_orderbook(self, symbol: str, loc: str = 'us') -> alpaca_trade_api.entity_v2.OrderbookV2\n",
      " |  \n",
      " |  get_latest_crypto_orderbooks(self, symbols: List[str], loc: str = 'us') -> alpaca_trade_api.entity_v2.OrderbookV2\n",
      " |  \n",
      " |  get_latest_crypto_quotes(self, symbols: List[str], loc: str = 'us') -> alpaca_trade_api.entity_v2.LatestQuotesV2\n",
      " |  \n",
      " |  get_latest_crypto_trades(self, symbols: List[str], loc: str = 'us') -> alpaca_trade_api.entity_v2.LatestTradesV2\n",
      " |  \n",
      " |  get_latest_quote(self, symbol: str, feed: Optional[str] = None) -> alpaca_trade_api.entity_v2.QuoteV2\n",
      " |  \n",
      " |  get_latest_quotes(self, symbols: List[str], feed: Optional[str] = None) -> alpaca_trade_api.entity_v2.LatestQuotesV2\n",
      " |  \n",
      " |  get_latest_trade(self, symbol: str, feed: Optional[str] = None) -> alpaca_trade_api.entity_v2.TradeV2\n",
      " |  \n",
      " |  get_latest_trades(self, symbols: List[str], feed: Optional[str] = None) -> alpaca_trade_api.entity_v2.LatestTradesV2\n",
      " |  \n",
      " |  get_news(self, symbol: Union[str, List[str], NoneType] = None, start: Optional[str] = None, end: Optional[str] = None, limit: int = 10, sort: alpaca_trade_api.rest.Sort = <Sort.Desc: 'desc'>, include_content: bool = False, exclude_contentless: bool = False) -> alpaca_trade_api.entity_v2.NewsListV2\n",
      " |  \n",
      " |  get_news_iter(self, symbol: Union[str, List[str], NoneType] = None, start: Optional[str] = None, end: Optional[str] = None, limit: int = 10, sort: alpaca_trade_api.rest.Sort = <Sort.Desc: 'desc'>, include_content: bool = False, exclude_contentless: bool = False, raw=False) -> Iterator[Union[alpaca_trade_api.entity_v2.NewsV2, dict]]\n",
      " |  \n",
      " |  get_order(self, order_id: str, nested: bool = None) -> alpaca_trade_api.entity.Order\n",
      " |      Get an order\n",
      " |  \n",
      " |  get_order_by_client_order_id(self, client_order_id: str) -> alpaca_trade_api.entity.Order\n",
      " |      Get an order by client order id\n",
      " |  \n",
      " |  get_portfolio_history(self, date_start: str = None, date_end: str = None, period: str = None, timeframe=None, extended_hours: bool = None) -> alpaca_trade_api.entity.PortfolioHistory\n",
      " |      alpaca.markets/docs/api-documentation/api-v2/portfolio-history/\n",
      " |      :param date_start: YYYY-MM-DD\n",
      " |      :param date_end: YYYY-MM-DD\n",
      " |      :param period: The duration of the data in <number> + <unit>\n",
      " |             such as 1D, where <unit> can be D for day, W for week,\n",
      " |             M for month and A for year. Defaults to 1M.\n",
      " |      :param timeframe: The resolution of time window. 1Min, 5Min, 15Min,\n",
      " |             1H, or 1D\n",
      " |      :param extended_hours: bool. If true, include extended hours in the\n",
      " |             result.\n",
      " |  \n",
      " |  get_position(self, symbol: str) -> alpaca_trade_api.entity.Position\n",
      " |      Get an open position\n",
      " |  \n",
      " |  get_quotes(self, symbol: Union[str, List[str]], start: Optional[str] = None, end: Optional[str] = None, limit: int = None, feed: Optional[str] = None, asof: Optional[str] = None, sort: Optional[alpaca_trade_api.rest.Sort] = None) -> alpaca_trade_api.entity_v2.QuotesV2\n",
      " |  \n",
      " |  get_quotes_iter(self, symbol: Union[str, List[str]], start: Optional[str] = None, end: Optional[str] = None, limit: int = None, feed: Optional[str] = None, asof: Optional[str] = None, sort: Optional[alpaca_trade_api.rest.Sort] = None, raw=False) -> Iterator[Union[alpaca_trade_api.entity.Quote, dict]]\n",
      " |  \n",
      " |  get_snapshot(self, symbol: str, feed: Optional[str] = None) -> alpaca_trade_api.entity_v2.SnapshotV2\n",
      " |  \n",
      " |  get_snapshots(self, symbols: List[str], feed: Optional[str] = None) -> alpaca_trade_api.entity_v2.SnapshotsV2\n",
      " |  \n",
      " |  get_trades(self, symbol: Union[str, List[str]], start: Optional[str] = None, end: Optional[str] = None, limit: int = None, feed: Optional[str] = None, asof: Optional[str] = None, sort: Optional[alpaca_trade_api.rest.Sort] = None) -> alpaca_trade_api.entity_v2.TradesV2\n",
      " |  \n",
      " |  get_trades_iter(self, symbol: Union[str, List[str]], start: Optional[str] = None, end: Optional[str] = None, limit: int = None, feed: Optional[str] = None, asof: Optional[str] = None, sort: Optional[alpaca_trade_api.rest.Sort] = None, raw=False) -> Iterator[Union[alpaca_trade_api.entity.Trade, dict]]\n",
      " |  \n",
      " |  get_watchlist(self, watchlist_id: str) -> alpaca_trade_api.entity.Watchlist\n",
      " |      Get a watchlist identified by the ID\n",
      " |  \n",
      " |  get_watchlist_by_name(self, watchlist_name: str) -> alpaca_trade_api.entity.Watchlist\n",
      " |      Get a watchlist identified by its name\n",
      " |  \n",
      " |  get_watchlists(self) -> List[alpaca_trade_api.entity.Watchlist]\n",
      " |      Get the list of watchlists registered under the account\n",
      " |  \n",
      " |  list_assets(self, status=None, asset_class=None) -> List[alpaca_trade_api.entity.Asset]\n",
      " |      Get a list of assets\n",
      " |  \n",
      " |  list_orders(self, status: str = None, limit: int = None, after: str = None, until: str = None, direction: str = None, params=None, nested: bool = None, symbols: List[str] = None, side: str = None) -> List[alpaca_trade_api.entity.Order]\n",
      " |      Get a list of orders\n",
      " |      https://docs.alpaca.markets/web-api/orders/#get-a-list-of-orders\n",
      " |      \n",
      " |      :param status: open, closed or all. Defaults to open.\n",
      " |      :param limit: Defaults to 50 and max is 500\n",
      " |      :param after: timestamp\n",
      " |      :param until: timestamp\n",
      " |      :param direction: asc or desc.\n",
      " |      :param params: refer to documentation\n",
      " |      :param nested: should the data be nested like json\n",
      " |      :param symbols: list of str (symbols)\n",
      " |      :param side: Lets you filter to only 'buy' or 'sell' orders\n",
      " |  \n",
      " |  list_positions(self) -> List[alpaca_trade_api.entity.Position]\n",
      " |      Get a list of open positions\n",
      " |  \n",
      " |  patch(self, path, data=None)\n",
      " |  \n",
      " |  post(self, path, data=None)\n",
      " |  \n",
      " |  put(self, path, data=None)\n",
      " |  \n",
      " |  replace_order(self, order_id: str, qty: str = None, limit_price: str = None, stop_price: str = None, trail: str = None, time_in_force: str = None, client_order_id: str = None) -> alpaca_trade_api.entity.Order\n",
      " |      :param order_id:\n",
      " |      :param qty: str of int\n",
      " |      :param limit_price: str of float\n",
      " |      :param stop_price: str of float\n",
      " |      :param trail: str of float, represents trailing_price or\n",
      " |             trailing_percent. determined by the original order.\n",
      " |      :param time_in_force: day, gtc, opg, cls, ioc, fok\n",
      " |      \n",
      " |      note: you cannot replace type of order. so, it was trailing_stop(e.g)\n",
      " |            it will remain trailing_stop.\n",
      " |  \n",
      " |  response_wrapper(self, obj, entity: alpaca_trade_api.entity.Entity)\n",
      " |      To allow the user to get raw response from the api, we wrap all\n",
      " |      functions with this method, checking if the user has set raw_data\n",
      " |      bool. if they didn't, we wrap the response with an Entity object.\n",
      " |      :param obj: response from server\n",
      " |      :param entity: derivative object of Entity\n",
      " |      :return:\n",
      " |  \n",
      " |  submit_order(self, symbol: str, qty: float = None, side: str = 'buy', type: str = 'market', time_in_force: str = 'day', limit_price: str = None, stop_price: str = None, client_order_id: str = None, extended_hours: bool = None, order_class: str = None, take_profit: dict = None, stop_loss: dict = None, trail_price: str = None, trail_percent: str = None, notional: float = None)\n",
      " |      :param symbol: symbol or asset ID\n",
      " |      :param qty: float. Mutually exclusive with \"notional\".\n",
      " |      :param side: buy or sell\n",
      " |      :param type: market, limit, stop, stop_limit or trailing_stop\n",
      " |      :param time_in_force: day, gtc, opg, cls, ioc, fok\n",
      " |      :param limit_price: str of float\n",
      " |      :param stop_price: str of float\n",
      " |      :param client_order_id:\n",
      " |      :param extended_hours: bool. If true, order will be eligible to execute\n",
      " |             in premarket/afterhours.\n",
      " |      :param order_class: simple, bracket, oco or oto\n",
      " |      :param take_profit: dict with field \"limit_price\" e.g\n",
      " |             {\"limit_price\": \"298.95\"}\n",
      " |      :param stop_loss: dict with fields \"stop_price\" and \"limit_price\" e.g\n",
      " |             {\"stop_price\": \"297.95\", \"limit_price\": \"298.95\"}\n",
      " |      :param trail_price: str of float\n",
      " |      :param trail_percent: str of float\n",
      " |      :param notional: float. Mutually exclusive with \"qty\".\n",
      " |  \n",
      " |  update_account_configurations(self, no_shorting: bool = None, dtbp_check: str = None, trade_confirm_email: str = None, suspend_trade: bool = None) -> alpaca_trade_api.entity.AccountConfigurations\n",
      " |      alpaca.markets/docs/api-documentation/api-v2/account-configuration/\n",
      " |      Update account configs\n",
      " |      :param dtbp_check: both, entry, or exit\n",
      " |      :param trade_confirm_email: all or none\n",
      " |  \n",
      " |  update_watchlist(self, watchlist_id: str, name: str = None, symbols=None) -> alpaca_trade_api.entity.Watchlist\n",
      " |      Update a watchlist's name and/or asset list\n",
      " |  \n",
      " |  ----------------------------------------------------------------------\n",
      " |  Data descriptors defined here:\n",
      " |  \n",
      " |  __dict__\n",
      " |      dictionary for instance variables (if defined)\n",
      " |  \n",
      " |  __weakref__\n",
      " |      list of weak references to the object (if defined)\n",
      "\n"
     ]
    }
   ],
   "source": [
    "help(tradeapi.REST)"
   ]
  },
  {
   "cell_type": "code",
   "execution_count": 7,
   "metadata": {},
   "outputs": [],
   "source": [
    "# Create the Alpaca API object\n",
    "# instantiate the connection with the REST api\n",
    "alpaca = tradeapi.REST(\n",
    "    alpaca_api_key,\n",
    "    alpaca_secret_key,\n",
    "    api_version='v2'\n",
    ")"
   ]
  },
  {
   "cell_type": "markdown",
   "metadata": {},
   "source": [
    "## Set a variable `today` with current date using ISO format"
   ]
  },
  {
   "cell_type": "code",
   "execution_count": 8,
   "metadata": {},
   "outputs": [],
   "source": [
    "# Format current date as ISO format\n",
    "today = pd.Timestamp('2024-01-26', tz='America/New_York').isoformat()"
   ]
  },
  {
   "cell_type": "markdown",
   "metadata": {},
   "source": [
    "## Set a variable `timeframe` with value equal to `1Day`"
   ]
  },
  {
   "cell_type": "code",
   "execution_count": 9,
   "metadata": {},
   "outputs": [],
   "source": [
    "# Set timeframe to one day (\"1Day\") for the Alpaca API\n",
    "timeframe = '1D'"
   ]
  },
  {
   "cell_type": "markdown",
   "metadata": {},
   "source": [
    "## Create a DataFrame with current price data for `MSFT` & `APPL` using `alpaca.get_bars()`"
   ]
  },
  {
   "cell_type": "code",
   "execution_count": 10,
   "metadata": {},
   "outputs": [
    {
     "name": "stdout",
     "output_type": "stream",
     "text": [
      "Help on method get_bars in module alpaca_trade_api.rest:\n",
      "\n",
      "get_bars(symbol: Union[str, List[str]], timeframe: alpaca_trade_api.rest.TimeFrame, start: Optional[str] = None, end: Optional[str] = None, adjustment: str = 'raw', limit: int = None, feed: Optional[str] = None, asof: Optional[str] = None, sort: Optional[alpaca_trade_api.rest.Sort] = None) -> alpaca_trade_api.entity_v2.BarsV2 method of alpaca_trade_api.rest.REST instance\n",
      "\n"
     ]
    }
   ],
   "source": [
    "help(alpaca.get_bars)"
   ]
  },
  {
   "cell_type": "code",
   "execution_count": 11,
   "metadata": {},
   "outputs": [
    {
     "data": {
      "text/html": [
       "<div>\n",
       "<style scoped>\n",
       "    .dataframe tbody tr th:only-of-type {\n",
       "        vertical-align: middle;\n",
       "    }\n",
       "\n",
       "    .dataframe tbody tr th {\n",
       "        vertical-align: top;\n",
       "    }\n",
       "\n",
       "    .dataframe thead tr th {\n",
       "        text-align: left;\n",
       "    }\n",
       "\n",
       "    .dataframe thead tr:last-of-type th {\n",
       "        text-align: right;\n",
       "    }\n",
       "</style>\n",
       "<table border=\"1\" class=\"dataframe\">\n",
       "  <thead>\n",
       "    <tr>\n",
       "      <th></th>\n",
       "      <th colspan=\"7\" halign=\"left\">MSFT</th>\n",
       "      <th colspan=\"7\" halign=\"left\">AAPL</th>\n",
       "    </tr>\n",
       "    <tr>\n",
       "      <th></th>\n",
       "      <th>close</th>\n",
       "      <th>high</th>\n",
       "      <th>low</th>\n",
       "      <th>trade_count</th>\n",
       "      <th>open</th>\n",
       "      <th>volume</th>\n",
       "      <th>vwap</th>\n",
       "      <th>close</th>\n",
       "      <th>high</th>\n",
       "      <th>low</th>\n",
       "      <th>trade_count</th>\n",
       "      <th>open</th>\n",
       "      <th>volume</th>\n",
       "      <th>vwap</th>\n",
       "    </tr>\n",
       "    <tr>\n",
       "      <th>timestamp</th>\n",
       "      <th></th>\n",
       "      <th></th>\n",
       "      <th></th>\n",
       "      <th></th>\n",
       "      <th></th>\n",
       "      <th></th>\n",
       "      <th></th>\n",
       "      <th></th>\n",
       "      <th></th>\n",
       "      <th></th>\n",
       "      <th></th>\n",
       "      <th></th>\n",
       "      <th></th>\n",
       "      <th></th>\n",
       "    </tr>\n",
       "  </thead>\n",
       "  <tbody>\n",
       "    <tr>\n",
       "      <th>2024-01-26 05:00:00+00:00</th>\n",
       "      <td>403.93</td>\n",
       "      <td>406.17</td>\n",
       "      <td>402.43</td>\n",
       "      <td>336780</td>\n",
       "      <td>404.37</td>\n",
       "      <td>17795635</td>\n",
       "      <td>404.024506</td>\n",
       "      <td>192.42</td>\n",
       "      <td>194.76</td>\n",
       "      <td>191.94</td>\n",
       "      <td>533460</td>\n",
       "      <td>194.27</td>\n",
       "      <td>44568656</td>\n",
       "      <td>193.121135</td>\n",
       "    </tr>\n",
       "  </tbody>\n",
       "</table>\n",
       "</div>"
      ],
      "text/plain": [
       "                             MSFT                                      \\\n",
       "                            close    high     low trade_count    open   \n",
       "timestamp                                                               \n",
       "2024-01-26 05:00:00+00:00  403.93  406.17  402.43      336780  404.37   \n",
       "\n",
       "                                                   AAPL                  \\\n",
       "                             volume        vwap   close    high     low   \n",
       "timestamp                                                                 \n",
       "2024-01-26 05:00:00+00:00  17795635  404.024506  192.42  194.76  191.94   \n",
       "\n",
       "                                                                     \n",
       "                          trade_count    open    volume        vwap  \n",
       "timestamp                                                            \n",
       "2024-01-26 05:00:00+00:00      533460  194.27  44568656  193.121135  "
      ]
     },
     "execution_count": 11,
     "metadata": {},
     "output_type": "execute_result"
    }
   ],
   "source": [
    "# Get current price data for MSFT and AAPL\n",
    "# Fetch market data using the get_bars() method\n",
    "portfolio_df = alpaca.get_bars(\n",
    "    tickers,\n",
    "    timeframe,\n",
    "    start= today,\n",
    "    end=today\n",
    ").df\n",
    "\n",
    "# portfolio_df\n",
    "\n",
    "# Reorganize the DataFrame\n",
    "# Separate ticker data\n",
    "# creates a new df MSFT containing only the row where the 'symbol' is 'MSFT', and removes the 'symbol' column \n",
    "MSFT = portfolio_df[portfolio_df['symbol']=='MSFT'].drop('symbol', axis=1)\n",
    "AAPL = portfolio_df[portfolio_df['symbol']=='AAPL'].drop('symbol', axis=1)\n",
    "\n",
    "\n",
    "# Concatenate the ticker DataFrames\n",
    "# creates a new df containing all columns from both MSFT and AAPL, label the columns - multiindex \n",
    "portfolio_df = pd.concat([MSFT, AAPL], axis=1, keys=['MSFT', 'AAPL'])\n",
    "\n",
    "# Display sample data\n",
    "portfolio_df"
   ]
  },
  {
   "cell_type": "markdown",
   "metadata": {},
   "source": [
    "## Calculate the current value in dollars of the stock portfolio"
   ]
  },
  {
   "cell_type": "code",
   "execution_count": 12,
   "metadata": {},
   "outputs": [
    {
     "name": "stderr",
     "output_type": "stream",
     "text": [
      "/var/folders/wl/x3hxw0v13sb9sgxcqzzdxwlh0000gn/T/ipykernel_35169/2157368052.py:3: FutureWarning: Calling float on a single element Series is deprecated and will raise a TypeError in the future. Use float(ser.iloc[0]) instead\n",
      "  msft_close = float(portfolio_df['MSFT']['close'])\n",
      "/var/folders/wl/x3hxw0v13sb9sgxcqzzdxwlh0000gn/T/ipykernel_35169/2157368052.py:4: FutureWarning: Calling float on a single element Series is deprecated and will raise a TypeError in the future. Use float(ser.iloc[0]) instead\n",
      "  aapl_close = float(portfolio_df['AAPL']['close'])\n"
     ]
    }
   ],
   "source": [
    "# Fetch the current closing prices from the DataFrame\n",
    "# msft_close = portfolio_df['MSFT']['close']\n",
    "msft_close = float(portfolio_df['MSFT']['close'])\n",
    "aapl_close = float(portfolio_df['AAPL']['close'])"
   ]
  },
  {
   "cell_type": "code",
   "execution_count": 13,
   "metadata": {},
   "outputs": [
    {
     "name": "stdout",
     "output_type": "stream",
     "text": [
      "The value of the portfolio is: $142360.40\n"
     ]
    }
   ],
   "source": [
    "# Compute the current value in dollars of the stock portfolio\n",
    "msft_value = shares_df.iloc[0][0] * msft_close\n",
    "aapl_value = shares_df.iloc[1][0] * aapl_close\n",
    "\n",
    "# Print the current value of the stocks portfolio\n",
    "print(f'The value of the portfolio is: ${msft_value+aapl_value:.2f}')"
   ]
  },
  {
   "cell_type": "markdown",
   "metadata": {},
   "source": [
    "## Plot stock portfolio composition\n",
    "\n",
    "### Create a DataFrame with the current value of shares"
   ]
  },
  {
   "cell_type": "code",
   "execution_count": 14,
   "metadata": {},
   "outputs": [
    {
     "data": {
      "text/html": [
       "<div>\n",
       "<style scoped>\n",
       "    .dataframe tbody tr th:only-of-type {\n",
       "        vertical-align: middle;\n",
       "    }\n",
       "\n",
       "    .dataframe tbody tr th {\n",
       "        vertical-align: top;\n",
       "    }\n",
       "\n",
       "    .dataframe thead th {\n",
       "        text-align: right;\n",
       "    }\n",
       "</style>\n",
       "<table border=\"1\" class=\"dataframe\">\n",
       "  <thead>\n",
       "    <tr style=\"text-align: right;\">\n",
       "      <th></th>\n",
       "      <th>MSFT</th>\n",
       "      <th>AAPL</th>\n",
       "    </tr>\n",
       "  </thead>\n",
       "  <tbody>\n",
       "    <tr>\n",
       "      <th>0</th>\n",
       "      <td>80786.0</td>\n",
       "      <td>61574.4</td>\n",
       "    </tr>\n",
       "  </tbody>\n",
       "</table>\n",
       "</div>"
      ],
      "text/plain": [
       "      MSFT     AAPL\n",
       "0  80786.0  61574.4"
      ]
     },
     "execution_count": 14,
     "metadata": {},
     "output_type": "execute_result"
    }
   ],
   "source": [
    "# Set the data for the shares value DataFrame\n",
    "shares_value = {\n",
    "    'MSFT': [msft_value],\n",
    "    'AAPL': [aapl_value]\n",
    "}\n",
    "\n",
    "# Create a DataFrame with the current value of shares\n",
    "shares_value_df = pd.DataFrame(shares_value)\n",
    "\n",
    "# Display DataFrame data\n",
    "shares_value_df"
   ]
  },
  {
   "cell_type": "code",
   "execution_count": 15,
   "metadata": {},
   "outputs": [
    {
     "data": {
      "text/plain": [
       "array([<Axes: ylabel='shares'>], dtype=object)"
      ]
     },
     "execution_count": 15,
     "metadata": {},
     "output_type": "execute_result"
    },
    {
     "data": {
      "image/png": "[encoded data removed]",
      "text/plain": [
       "<Figure size 640x480 with 1 Axes>"
      ]
     },
     "metadata": {},
     "output_type": "display_data"
    }
   ],
   "source": [
    "# Create a pie chart to show the proportion of stocks in the portfolio\n",
    "shares_df.plot(kind='pie', subplots=True)"
   ]
  },
  {
   "cell_type": "code",
   "execution_count": 16,
   "metadata": {},
   "outputs": [
    {
     "data": {
      "text/plain": [
       "<Axes: >"
      ]
     },
     "execution_count": 16,
     "metadata": {},
     "output_type": "execute_result"
    },
    {
     "data": {
      "image/png": "[encoded data removed]",
      "text/plain": [
       "<Figure size 640x480 with 1 Axes>"
      ]
     },
     "metadata": {},
     "output_type": "display_data"
    }
   ],
   "source": [
    "# Create a bar plot to show the value of shares\n",
    "shares_value_df.plot(kind='bar')"
   ]
  }
 ],
 "metadata": {
  "kernelspec": {
   "display_name": "Python 3",
   "language": "python",
   "name": "python3"
  },
  "language_info": {
   "codemirror_mode": {
    "name": "ipython",
    "version": 3
   },
   "file_extension": ".py",
   "mimetype": "text/x-python",
   "name": "python",
   "nbconvert_exporter": "python",
   "pygments_lexer": "ipython3",
   "version": "3.10.13"
  }
 },
 "nbformat": 4,
 "nbformat_minor": 4
}
