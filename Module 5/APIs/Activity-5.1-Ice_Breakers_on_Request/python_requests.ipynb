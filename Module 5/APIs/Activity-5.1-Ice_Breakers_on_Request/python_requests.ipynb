{
 "cells": [
  {
   "cell_type": "markdown",
   "metadata": {},
   "source": [
    "## Ice Breakers on Request"
   ]
  },
  {
   "cell_type": "markdown",
   "metadata": {},
   "source": [
    "### Import requests library"
   ]
  },
  {
   "cell_type": "code",
   "execution_count": 1,
   "metadata": {},
   "outputs": [],
   "source": [
    "import requests"
   ]
  },
  {
   "cell_type": "markdown",
   "metadata": {},
   "source": [
    "### Declare `request_urls`"
   ]
  },
  {
   "cell_type": "code",
   "execution_count": 2,
   "metadata": {},
   "outputs": [],
   "source": [
    "# Declare `url` variables\n",
    "bitcoin_price_url = \"https://api.coindesk.com/v1/bpi/currentprice.json\"\n",
    "exchange_rate_url = \"https://open.er-api.com/v6/latest/CAD\"\n",
    "us_treasury_url = \"https://api.usaspending.gov//api/v2/references/agency/456/\"\n",
    "us_gdp_data_url = \"http://api.worldbank.org/v2/country/us?format=json\""
   ]
  },
  {
   "cell_type": "markdown",
   "metadata": {},
   "source": [
    "### Execute `GET` request using `requests` library"
   ]
  },
  {
   "cell_type": "code",
   "execution_count": 3,
   "metadata": {},
   "outputs": [],
   "source": [
    "# Execute `GET` request with url\n",
    "response_data = requests.get(bitcoin_price_url)"
   ]
  },
  {
   "cell_type": "markdown",
   "metadata": {},
   "source": [
    "### Get response `status code`"
   ]
  },
  {
   "cell_type": "code",
   "execution_count": 4,
   "metadata": {},
   "outputs": [
    {
     "name": "stdout",
     "output_type": "stream",
     "text": [
      "<Response [200]>\n"
     ]
    }
   ],
   "source": [
    "# Print `response_data variable`\n",
    "print(response_data)"
   ]
  },
  {
   "cell_type": "markdown",
   "metadata": {},
   "source": [
    "### Extract response `content`"
   ]
  },
  {
   "cell_type": "code",
   "execution_count": 5,
   "metadata": {},
   "outputs": [
    {
     "name": "stdout",
     "output_type": "stream",
     "text": [
      "b'{\"time\":{\"updated\":\"Feb 1, 2024 14:02:51 UTC\",\"updatedISO\":\"2024-02-01T14:02:51+00:00\",\"updateduk\":\"Feb 1, 2024 at 14:02 GMT\"},\"disclaimer\":\"This data was produced from the CoinDesk Bitcoin Price Index (USD). Non-USD currency data converted using hourly conversion rate from openexchangerates.org\",\"chartName\":\"Bitcoin\",\"bpi\":{\"USD\":{\"code\":\"USD\",\"symbol\":\"&#36;\",\"rate\":\"42,225.961\",\"description\":\"United States Dollar\",\"rate_float\":42225.9613},\"GBP\":{\"code\":\"GBP\",\"symbol\":\"&pound;\",\"rate\":\"33,301.251\",\"description\":\"British Pound Sterling\",\"rate_float\":33301.251},\"EUR\":{\"code\":\"EUR\",\"symbol\":\"&euro;\",\"rate\":\"39,068.135\",\"description\":\"Euro\",\"rate_float\":39068.135}}}'\n"
     ]
    }
   ],
   "source": [
    "# Store response using `content` attribute\n",
    "response_content = response_data.content\n",
    "print(response_content)"
   ]
  },
  {
   "cell_type": "markdown",
   "metadata": {},
   "source": [
    "### Convert output to JSON"
   ]
  },
  {
   "cell_type": "code",
   "execution_count": 6,
   "metadata": {},
   "outputs": [
    {
     "name": "stdout",
     "output_type": "stream",
     "text": [
      "{'time': {'updated': 'Feb 1, 2024 14:02:51 UTC', 'updatedISO': '2024-02-01T14:02:51+00:00', 'updateduk': 'Feb 1, 2024 at 14:02 GMT'}, 'disclaimer': 'This data was produced from the CoinDesk Bitcoin Price Index (USD). Non-USD currency data converted using hourly conversion rate from openexchangerates.org', 'chartName': 'Bitcoin', 'bpi': {'USD': {'code': 'USD', 'symbol': '&#36;', 'rate': '42,225.961', 'description': 'United States Dollar', 'rate_float': 42225.9613}, 'GBP': {'code': 'GBP', 'symbol': '&pound;', 'rate': '33,301.251', 'description': 'British Pound Sterling', 'rate_float': 33301.251}, 'EUR': {'code': 'EUR', 'symbol': '&euro;', 'rate': '39,068.135', 'description': 'Euro', 'rate_float': 39068.135}}}\n"
     ]
    }
   ],
   "source": [
    "# Format data as JSON\n",
    "data=response_data.json()\n",
    "print(data)"
   ]
  },
  {
   "cell_type": "markdown",
   "metadata": {},
   "source": [
    "### Format data with `json.dumps`"
   ]
  },
  {
   "cell_type": "code",
   "execution_count": 7,
   "metadata": {},
   "outputs": [
    {
     "name": "stdout",
     "output_type": "stream",
     "text": [
      "{\n",
      "    \"time\": {\n",
      "        \"updated\": \"Feb 1, 2024 14:02:51 UTC\",\n",
      "        \"updatedISO\": \"2024-02-01T14:02:51+00:00\",\n",
      "        \"updateduk\": \"Feb 1, 2024 at 14:02 GMT\"\n",
      "    },\n",
      "    \"disclaimer\": \"This data was produced from the CoinDesk Bitcoin Price Index (USD). Non-USD currency data converted using hourly conversion rate from openexchangerates.org\",\n",
      "    \"chartName\": \"Bitcoin\",\n",
      "    \"bpi\": {\n",
      "        \"USD\": {\n",
      "            \"code\": \"USD\",\n",
      "            \"symbol\": \"&#36;\",\n",
      "            \"rate\": \"42,225.961\",\n",
      "            \"description\": \"United States Dollar\",\n",
      "            \"rate_float\": 42225.9613\n",
      "        },\n",
      "        \"GBP\": {\n",
      "            \"code\": \"GBP\",\n",
      "            \"symbol\": \"&pound;\",\n",
      "            \"rate\": \"33,301.251\",\n",
      "            \"description\": \"British Pound Sterling\",\n",
      "            \"rate_float\": 33301.251\n",
      "        },\n",
      "        \"EUR\": {\n",
      "            \"code\": \"EUR\",\n",
      "            \"symbol\": \"&euro;\",\n",
      "            \"rate\": \"39,068.135\",\n",
      "            \"description\": \"Euro\",\n",
      "            \"rate_float\": 39068.135\n",
      "        }\n",
      "    }\n",
      "}\n"
     ]
    }
   ],
   "source": [
    "import json\n",
    "\n",
    "# Use json.dumps to format data\n",
    "data_json = json.dumps(data, indent=4)\n",
    "print(data_json)"
   ]
  },
  {
   "cell_type": "markdown",
   "metadata": {},
   "source": [
    "### Select value and store as variable"
   ]
  },
  {
   "cell_type": "code",
   "execution_count": 8,
   "metadata": {},
   "outputs": [
    {
     "name": "stdout",
     "output_type": "stream",
     "text": [
      "42225.9613\n",
      "33301.251\n",
      "39068.135\n"
     ]
    }
   ],
   "source": [
    "# Select bitcoin values\n",
    "\n",
    "bitcoin_usd = data['bpi']['USD']['rate_float']\n",
    "bitcoin_gbp = data['bpi']['GBP']['rate_float']\n",
    "bitcoin_eur = data['bpi']['EUR']['rate_float']\n",
    "\n",
    "print(bitcoin_usd)\n",
    "print(bitcoin_gbp)\n",
    "print(bitcoin_eur)"
   ]
  },
  {
   "cell_type": "code",
   "execution_count": 9,
   "metadata": {},
   "outputs": [
    {
     "name": "stdout",
     "output_type": "stream",
     "text": [
      "42225.9613\n",
      "33301.251\n",
      "39068.135\n"
     ]
    }
   ],
   "source": [
    "# Print selected values\n",
    "bitcoin_usd_json = json.dumps(bitcoin_usd, indent=4)\n",
    "print(bitcoin_usd_json)\n",
    "bitcoin_gbp_json = json.dumps(bitcoin_gbp, indent=4)\n",
    "print(bitcoin_gbp_json)\n",
    "bitcoin_eur_json = json.dumps(bitcoin_eur, indent=4)\n",
    "print(bitcoin_eur_json)"
   ]
  }
 ],
 "metadata": {
  "kernelspec": {
   "display_name": "Python 3",
   "language": "python",
   "name": "python3"
  },
  "language_info": {
   "codemirror_mode": {
    "name": "ipython",
    "version": 3
   },
   "file_extension": ".py",
   "mimetype": "text/x-python",
   "name": "python",
   "nbconvert_exporter": "python",
   "pygments_lexer": "ipython3",
   "version": "3.10.13"
  },
  "nteract": {
   "version": "0.28.0"
  }
 },
 "nbformat": 4,
 "nbformat_minor": 4
}
